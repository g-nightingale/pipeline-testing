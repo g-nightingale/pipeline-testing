{
 "cells": [
  {
   "cell_type": "code",
   "execution_count": 1,
   "source": [
    "import pandas as pd\r\n",
    "import numpy as np\r\n",
    "from sklearn.metrics import roc_auc_score"
   ],
   "outputs": [],
   "metadata": {}
  },
  {
   "cell_type": "code",
   "execution_count": 7,
   "source": [
    "TARGET = \"Loan_Status\"\r\n",
    "TRAIN_DATA_LOCATION = \"data/train.csv\" \r\n",
    "TEST_DATA_LOCATION = \"data/test.csv\"\r\n",
    "TEST_SIZE = 0.3\r\n",
    "RANDOM_STATE = 42\r\n",
    "REPLACE_MISSING_VALUE = -99999\r\n",
    "DROP_FEATURES = ['Loan_ID']"
   ],
   "outputs": [],
   "metadata": {}
  },
  {
   "cell_type": "code",
   "execution_count": 8,
   "source": [
    "def create_datasets(train, target):\r\n",
    "    \"\"\"Create datasets.\"\"\"\r\n",
    "    y = train[target]\r\n",
    "    X = train.drop(target, axis=1)\r\n",
    "    return X, y\r\n",
    "\r\n",
    "def calculate_performance(y_true, y_score):\r\n",
    "    \"\"\"\"Calculate performance.\"\"\"\r\n",
    "\r\n",
    "    return 2 * roc_auc_score(y_true, y_score) - 1\r\n",
    "\r\n",
    "# Load datasets and split\r\n",
    "train = pd.read_csv(TRAIN_DATA_LOCATION)\r\n",
    "X, y = create_datasets(train, TARGET)"
   ],
   "outputs": [],
   "metadata": {}
  },
  {
   "cell_type": "code",
   "execution_count": 32,
   "source": [
    "# Development of ordinal encoder\r\n",
    "mappings = {}\r\n",
    "non_numeric_features = train.select_dtypes(exclude=np.number)\r\n",
    "for feature in non_numeric_features:\r\n",
    "        feature_mappings = {}\r\n",
    "        if train[feature].value_counts().count() > 100:\r\n",
    "                continue\r\n",
    "        else:\r\n",
    "                tmp = train.groupby([feature]).agg({TARGET:'mean'})\r\n",
    "                tmp.sort_values(TARGET, inplace=True)\r\n",
    "                for i, feature_value in enumerate(tmp.index.values):\r\n",
    "                        feature_mappings[feature_value] = i\r\n",
    "        mappings[feature] = feature_mappings\r\n",
    "                \r\n",
    "        "
   ],
   "outputs": [],
   "metadata": {}
  },
  {
   "cell_type": "code",
   "execution_count": 33,
   "source": [
    "mappings"
   ],
   "outputs": [
    {
     "output_type": "execute_result",
     "data": {
      "text/plain": [
       "{'Gender': {'Female': 0, 'Male': 1},\n",
       " 'Married': {'No': 0, 'Yes': 1},\n",
       " 'Dependents': {'1': 0, '3+': 1, '0': 2, '2': 3},\n",
       " 'Education': {'Not Graduate': 0, 'Graduate': 1},\n",
       " 'Self_Employed': {'Yes': 0, 'No': 1},\n",
       " 'Property_Area': {'Rural': 0, 'Urban': 1, 'Semiurban': 2}}"
      ]
     },
     "metadata": {},
     "execution_count": 33
    }
   ],
   "metadata": {}
  },
  {
   "cell_type": "code",
   "execution_count": 36,
   "source": [
    "mappings['Education']"
   ],
   "outputs": [
    {
     "output_type": "execute_result",
     "data": {
      "text/plain": [
       "{'Not Graduate': 0, 'Graduate': 1}"
      ]
     },
     "metadata": {},
     "execution_count": 36
    }
   ],
   "metadata": {}
  },
  {
   "cell_type": "code",
   "execution_count": 39,
   "source": [
    "X['Education'].map(mappings['Education'])"
   ],
   "outputs": [
    {
     "output_type": "execute_result",
     "data": {
      "text/plain": [
       "0      1\n",
       "1      1\n",
       "2      1\n",
       "3      0\n",
       "4      1\n",
       "      ..\n",
       "609    1\n",
       "610    1\n",
       "611    1\n",
       "612    1\n",
       "613    1\n",
       "Name: Education, Length: 614, dtype: int64"
      ]
     },
     "metadata": {},
     "execution_count": 39
    }
   ],
   "metadata": {}
  },
  {
   "cell_type": "code",
   "execution_count": null,
   "source": [],
   "outputs": [],
   "metadata": {}
  }
 ],
 "metadata": {
  "orig_nbformat": 4,
  "language_info": {
   "name": "python",
   "version": "3.8.8",
   "mimetype": "text/x-python",
   "codemirror_mode": {
    "name": "ipython",
    "version": 3
   },
   "pygments_lexer": "ipython3",
   "nbconvert_exporter": "python",
   "file_extension": ".py"
  },
  "kernelspec": {
   "name": "python3",
   "display_name": "Python 3.8.8 64-bit ('base': conda)"
  },
  "interpreter": {
   "hash": "929b2f299ce0f6158e22f16e33cbb99775ec78db81a43cd19c351cbd2670c4ae"
  }
 },
 "nbformat": 4,
 "nbformat_minor": 2
}